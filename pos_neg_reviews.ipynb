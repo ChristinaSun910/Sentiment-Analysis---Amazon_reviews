{
 "cells": [
  {
   "cell_type": "code",
   "execution_count": 79,
   "metadata": {},
   "outputs": [],
   "source": [
    "import numpy as np\n",
    "import pandas as pd\n",
    "import pandas as pd\n",
    "import re\n",
    "\n",
    "\n",
    "import matplotlib.pyplot as plt\n",
    "\n"
   ]
  },
  {
   "cell_type": "markdown",
   "metadata": {},
   "source": [
    "## Exploratory Data Analysis¶"
   ]
  },
  {
   "cell_type": "code",
   "execution_count": 3,
   "metadata": {},
   "outputs": [
    {
     "data": {
      "text/html": [
       "<div>\n",
       "<style scoped>\n",
       "    .dataframe tbody tr th:only-of-type {\n",
       "        vertical-align: middle;\n",
       "    }\n",
       "\n",
       "    .dataframe tbody tr th {\n",
       "        vertical-align: top;\n",
       "    }\n",
       "\n",
       "    .dataframe thead th {\n",
       "        text-align: right;\n",
       "    }\n",
       "</style>\n",
       "<table border=\"1\" class=\"dataframe\">\n",
       "  <thead>\n",
       "    <tr style=\"text-align: right;\">\n",
       "      <th></th>\n",
       "      <th>Id</th>\n",
       "      <th>ProductId</th>\n",
       "      <th>UserId</th>\n",
       "      <th>ProfileName</th>\n",
       "      <th>HelpfulnessNumerator</th>\n",
       "      <th>HelpfulnessDenominator</th>\n",
       "      <th>Score</th>\n",
       "      <th>Time</th>\n",
       "      <th>Summary</th>\n",
       "      <th>Text</th>\n",
       "    </tr>\n",
       "  </thead>\n",
       "  <tbody>\n",
       "    <tr>\n",
       "      <td>0</td>\n",
       "      <td>1</td>\n",
       "      <td>B001E4KFG0</td>\n",
       "      <td>A3SGXH7AUHU8GW</td>\n",
       "      <td>delmartian</td>\n",
       "      <td>1</td>\n",
       "      <td>1</td>\n",
       "      <td>5</td>\n",
       "      <td>1303862400</td>\n",
       "      <td>Good Quality Dog Food</td>\n",
       "      <td>I have bought several of the Vitality canned d...</td>\n",
       "    </tr>\n",
       "    <tr>\n",
       "      <td>1</td>\n",
       "      <td>2</td>\n",
       "      <td>B00813GRG4</td>\n",
       "      <td>A1D87F6ZCVE5NK</td>\n",
       "      <td>dll pa</td>\n",
       "      <td>0</td>\n",
       "      <td>0</td>\n",
       "      <td>1</td>\n",
       "      <td>1346976000</td>\n",
       "      <td>Not as Advertised</td>\n",
       "      <td>Product arrived labeled as Jumbo Salted Peanut...</td>\n",
       "    </tr>\n",
       "    <tr>\n",
       "      <td>2</td>\n",
       "      <td>3</td>\n",
       "      <td>B000LQOCH0</td>\n",
       "      <td>ABXLMWJIXXAIN</td>\n",
       "      <td>Natalia Corres \"Natalia Corres\"</td>\n",
       "      <td>1</td>\n",
       "      <td>1</td>\n",
       "      <td>4</td>\n",
       "      <td>1219017600</td>\n",
       "      <td>\"Delight\" says it all</td>\n",
       "      <td>This is a confection that has been around a fe...</td>\n",
       "    </tr>\n",
       "  </tbody>\n",
       "</table>\n",
       "</div>"
      ],
      "text/plain": [
       "   Id   ProductId          UserId                      ProfileName  \\\n",
       "0   1  B001E4KFG0  A3SGXH7AUHU8GW                       delmartian   \n",
       "1   2  B00813GRG4  A1D87F6ZCVE5NK                           dll pa   \n",
       "2   3  B000LQOCH0   ABXLMWJIXXAIN  Natalia Corres \"Natalia Corres\"   \n",
       "\n",
       "   HelpfulnessNumerator  HelpfulnessDenominator  Score        Time  \\\n",
       "0                     1                       1      5  1303862400   \n",
       "1                     0                       0      1  1346976000   \n",
       "2                     1                       1      4  1219017600   \n",
       "\n",
       "                 Summary                                               Text  \n",
       "0  Good Quality Dog Food  I have bought several of the Vitality canned d...  \n",
       "1      Not as Advertised  Product arrived labeled as Jumbo Salted Peanut...  \n",
       "2  \"Delight\" says it all  This is a confection that has been around a fe...  "
      ]
     },
     "execution_count": 3,
     "metadata": {},
     "output_type": "execute_result"
    }
   ],
   "source": [
    "# load in Amazon Fine Food Dataset\n",
    "data_ori = pd.read_csv(r\"./Reviews.csv\")\n",
    "data_ori.head(3)"
   ]
  },
  {
   "cell_type": "code",
   "execution_count": 4,
   "metadata": {},
   "outputs": [
    {
     "data": {
      "text/plain": [
       "array([5, 1, 4, 2])"
      ]
     },
     "execution_count": 4,
     "metadata": {},
     "output_type": "execute_result"
    }
   ],
   "source": [
    "# remove reviews with scores of 3 which represents neutral sentiment\n",
    "# the objective of this project is to predict whether a review is \n",
    "# negative(score 1 or 2) or positive (score 4 or 5)\n",
    "data_ori = data_ori[data_ori.Score != 3]\n",
    "# check the unique Score\n",
    "data_ori.Score.unique()"
   ]
  },
  {
   "cell_type": "code",
   "execution_count": 5,
   "metadata": {
    "scrolled": true
   },
   "outputs": [
    {
     "data": {
      "text/html": [
       "<div>\n",
       "<style scoped>\n",
       "    .dataframe tbody tr th:only-of-type {\n",
       "        vertical-align: middle;\n",
       "    }\n",
       "\n",
       "    .dataframe tbody tr th {\n",
       "        vertical-align: top;\n",
       "    }\n",
       "\n",
       "    .dataframe thead th {\n",
       "        text-align: right;\n",
       "    }\n",
       "</style>\n",
       "<table border=\"1\" class=\"dataframe\">\n",
       "  <thead>\n",
       "    <tr style=\"text-align: right;\">\n",
       "      <th></th>\n",
       "      <th>Id</th>\n",
       "      <th>ProductId</th>\n",
       "      <th>UserId</th>\n",
       "      <th>ProfileName</th>\n",
       "      <th>HelpfulnessNumerator</th>\n",
       "      <th>HelpfulnessDenominator</th>\n",
       "      <th>Score</th>\n",
       "      <th>Time</th>\n",
       "      <th>Summary</th>\n",
       "      <th>Text</th>\n",
       "    </tr>\n",
       "  </thead>\n",
       "  <tbody>\n",
       "    <tr>\n",
       "      <td>83317</td>\n",
       "      <td>83318</td>\n",
       "      <td>B005ZBZLT4</td>\n",
       "      <td>#oc-R115TNMSPFT9I7</td>\n",
       "      <td>Breyton</td>\n",
       "      <td>2</td>\n",
       "      <td>3</td>\n",
       "      <td>2</td>\n",
       "      <td>1331510400</td>\n",
       "      <td>\"Green\" K-cup packaging sacrifices flavor</td>\n",
       "      <td>Overall its just OK when considering the price...</td>\n",
       "    </tr>\n",
       "    <tr>\n",
       "      <td>180871</td>\n",
       "      <td>180872</td>\n",
       "      <td>B007Y59HVM</td>\n",
       "      <td>#oc-R115TNMSPFT9I7</td>\n",
       "      <td>Breyton</td>\n",
       "      <td>2</td>\n",
       "      <td>3</td>\n",
       "      <td>2</td>\n",
       "      <td>1331510400</td>\n",
       "      <td>\"Green\" K-cup packaging sacrifices flavor</td>\n",
       "      <td>Overall its just OK when considering the price...</td>\n",
       "    </tr>\n",
       "    <tr>\n",
       "      <td>290947</td>\n",
       "      <td>290948</td>\n",
       "      <td>B005HG9ESG</td>\n",
       "      <td>#oc-R11D9D7SHXIJB9</td>\n",
       "      <td>Louis E. Emory \"hoppy\"</td>\n",
       "      <td>0</td>\n",
       "      <td>0</td>\n",
       "      <td>5</td>\n",
       "      <td>1342396800</td>\n",
       "      <td>Muscle spasms</td>\n",
       "      <td>My wife has recurring extreme muscle spasms, u...</td>\n",
       "    </tr>\n",
       "    <tr>\n",
       "      <td>455533</td>\n",
       "      <td>455534</td>\n",
       "      <td>B005HG9ERW</td>\n",
       "      <td>#oc-R11D9D7SHXIJB9</td>\n",
       "      <td>Louis E. Emory \"hoppy\"</td>\n",
       "      <td>0</td>\n",
       "      <td>0</td>\n",
       "      <td>5</td>\n",
       "      <td>1342396800</td>\n",
       "      <td>Muscle spasms</td>\n",
       "      <td>My wife has recurring extreme muscle spasms, u...</td>\n",
       "    </tr>\n",
       "    <tr>\n",
       "      <td>496893</td>\n",
       "      <td>496894</td>\n",
       "      <td>B005HG9ET0</td>\n",
       "      <td>#oc-R11D9D7SHXIJB9</td>\n",
       "      <td>Louis E. Emory \"hoppy\"</td>\n",
       "      <td>0</td>\n",
       "      <td>0</td>\n",
       "      <td>5</td>\n",
       "      <td>1342396800</td>\n",
       "      <td>Muscle spasms</td>\n",
       "      <td>My wife has recurring extreme muscle spasms, u...</td>\n",
       "    </tr>\n",
       "  </tbody>\n",
       "</table>\n",
       "</div>"
      ],
      "text/plain": [
       "            Id   ProductId              UserId             ProfileName  \\\n",
       "83317    83318  B005ZBZLT4  #oc-R115TNMSPFT9I7                 Breyton   \n",
       "180871  180872  B007Y59HVM  #oc-R115TNMSPFT9I7                 Breyton   \n",
       "290947  290948  B005HG9ESG  #oc-R11D9D7SHXIJB9  Louis E. Emory \"hoppy\"   \n",
       "455533  455534  B005HG9ERW  #oc-R11D9D7SHXIJB9  Louis E. Emory \"hoppy\"   \n",
       "496893  496894  B005HG9ET0  #oc-R11D9D7SHXIJB9  Louis E. Emory \"hoppy\"   \n",
       "\n",
       "        HelpfulnessNumerator  HelpfulnessDenominator  Score        Time  \\\n",
       "83317                      2                       3      2  1331510400   \n",
       "180871                     2                       3      2  1331510400   \n",
       "290947                     0                       0      5  1342396800   \n",
       "455533                     0                       0      5  1342396800   \n",
       "496893                     0                       0      5  1342396800   \n",
       "\n",
       "                                          Summary  \\\n",
       "83317   \"Green\" K-cup packaging sacrifices flavor   \n",
       "180871  \"Green\" K-cup packaging sacrifices flavor   \n",
       "290947                              Muscle spasms   \n",
       "455533                              Muscle spasms   \n",
       "496893                              Muscle spasms   \n",
       "\n",
       "                                                     Text  \n",
       "83317   Overall its just OK when considering the price...  \n",
       "180871  Overall its just OK when considering the price...  \n",
       "290947  My wife has recurring extreme muscle spasms, u...  \n",
       "455533  My wife has recurring extreme muscle spasms, u...  \n",
       "496893  My wife has recurring extreme muscle spasms, u...  "
      ]
     },
     "execution_count": 5,
     "metadata": {},
     "output_type": "execute_result"
    }
   ],
   "source": [
    "\"\"\"\n",
    "It is shown that there are duplicated identical reviews from \n",
    "the same customers for different products.\n",
    "e.g the first two rows show the identical summaries'Green\" K-cup packaging sacrifices flavor', \n",
    "texts 'Overall its just OK when considering the price.' sent at the same time from Breyton (thereby same userid), \n",
    "and the score are both negative.\n",
    "\n",
    "Although the list of product name was not able to be accessed, ProductId=B005ZBZLT4 and ProductId=B007Y59HVM \n",
    "represents two products with the same brands but different flavors or quantities. Therefore, the inference \n",
    "is that the reviews with different ProductId, but same the other parameters represents the same product with \n",
    "different flavors or quantities.\n",
    "\n",
    "As a result, the entries with different ProductId but the same other parameters were deleted. \n",
    "Redundancy in training data can cause bias to the model.\n",
    "\"\"\"\n",
    "\n",
    "pd.concat(v for i, v in data_ori.groupby(\"UserId\") if len(v) > 1).head(5)"
   ]
  },
  {
   "cell_type": "code",
   "execution_count": 6,
   "metadata": {
    "scrolled": true
   },
   "outputs": [
    {
     "name": "stdout",
     "output_type": "stream",
     "text": [
      "<class 'pandas.core.frame.DataFrame'>\n",
      "Int64Index: 525814 entries, 150523 to 327600\n",
      "Data columns (total 10 columns):\n",
      "Id                        525814 non-null int64\n",
      "ProductId                 525814 non-null object\n",
      "UserId                    525814 non-null object\n",
      "ProfileName               525798 non-null object\n",
      "HelpfulnessNumerator      525814 non-null int64\n",
      "HelpfulnessDenominator    525814 non-null int64\n",
      "Score                     525814 non-null int64\n",
      "Time                      525814 non-null int64\n",
      "Summary                   525789 non-null object\n",
      "Text                      525814 non-null object\n",
      "dtypes: int64(5), object(5)\n",
      "memory usage: 44.1+ MB\n"
     ]
    }
   ],
   "source": [
    "\"\"\"\n",
    "The approach used to eliminate entries of the same product with different ProductId is to firstly \n",
    "sort the ProductId in an ascending order. Then keep the first review as a representative and delete \n",
    "the remaining reviews. Doing sorting before elimination is to make sure noncontiguous entries of the \n",
    "same products would not have more than one representatives. \n",
    "\n",
    "\"\"\"\n",
    "\n",
    "# Sorting data according to ProductId in ascending order\n",
    "\n",
    "data_ori=data_ori.sort_values(\n",
    "    'ProductId',\n",
    "    axis=0,\n",
    "    ascending = True, \n",
    "    inplace=False )\n",
    "data_ori.info()"
   ]
  },
  {
   "cell_type": "code",
   "execution_count": 7,
   "metadata": {},
   "outputs": [
    {
     "data": {
      "text/plain": [
       "(363899, 10)"
      ]
     },
     "execution_count": 7,
     "metadata": {},
     "output_type": "execute_result"
    }
   ],
   "source": [
    "# Deduplication of entries\n",
    "data_ori=data_ori.drop_duplicates(\n",
    "    subset=['UserId','ProfileName','Text'], \n",
    "    keep='first')\n",
    "data_ori.shape"
   ]
  },
  {
   "cell_type": "code",
   "execution_count": 8,
   "metadata": {},
   "outputs": [
    {
     "data": {
      "text/html": [
       "<div>\n",
       "<style scoped>\n",
       "    .dataframe tbody tr th:only-of-type {\n",
       "        vertical-align: middle;\n",
       "    }\n",
       "\n",
       "    .dataframe tbody tr th {\n",
       "        vertical-align: top;\n",
       "    }\n",
       "\n",
       "    .dataframe thead th {\n",
       "        text-align: right;\n",
       "    }\n",
       "</style>\n",
       "<table border=\"1\" class=\"dataframe\">\n",
       "  <thead>\n",
       "    <tr style=\"text-align: right;\">\n",
       "      <th></th>\n",
       "      <th>Id</th>\n",
       "      <th>ProductId</th>\n",
       "      <th>UserId</th>\n",
       "      <th>ProfileName</th>\n",
       "      <th>HelpfulnessNumerator</th>\n",
       "      <th>HelpfulnessDenominator</th>\n",
       "      <th>Score</th>\n",
       "      <th>Time</th>\n",
       "      <th>Summary</th>\n",
       "      <th>Text</th>\n",
       "    </tr>\n",
       "  </thead>\n",
       "  <tbody>\n",
       "    <tr>\n",
       "      <td>64421</td>\n",
       "      <td>64422</td>\n",
       "      <td>B000MIDROQ</td>\n",
       "      <td>A161DK06JJMCYF</td>\n",
       "      <td>J. E. Stephens \"Jeanne\"</td>\n",
       "      <td>3</td>\n",
       "      <td>1</td>\n",
       "      <td>5</td>\n",
       "      <td>1224892800</td>\n",
       "      <td>Bought This for My Son at College</td>\n",
       "      <td>My son loves spaghetti so I didn't hesitate or...</td>\n",
       "    </tr>\n",
       "    <tr>\n",
       "      <td>44736</td>\n",
       "      <td>44737</td>\n",
       "      <td>B001EQ55RW</td>\n",
       "      <td>A2V0I904FH7ABY</td>\n",
       "      <td>Ram</td>\n",
       "      <td>3</td>\n",
       "      <td>2</td>\n",
       "      <td>4</td>\n",
       "      <td>1212883200</td>\n",
       "      <td>Pure cocoa taste with crunchy almonds inside</td>\n",
       "      <td>It was almost a 'love at first bite' - the per...</td>\n",
       "    </tr>\n",
       "  </tbody>\n",
       "</table>\n",
       "</div>"
      ],
      "text/plain": [
       "          Id   ProductId          UserId              ProfileName  \\\n",
       "64421  64422  B000MIDROQ  A161DK06JJMCYF  J. E. Stephens \"Jeanne\"   \n",
       "44736  44737  B001EQ55RW  A2V0I904FH7ABY                      Ram   \n",
       "\n",
       "       HelpfulnessNumerator  HelpfulnessDenominator  Score        Time  \\\n",
       "64421                     3                       1      5  1224892800   \n",
       "44736                     3                       2      4  1212883200   \n",
       "\n",
       "                                            Summary  \\\n",
       "64421             Bought This for My Son at College   \n",
       "44736  Pure cocoa taste with crunchy almonds inside   \n",
       "\n",
       "                                                    Text  \n",
       "64421  My son loves spaghetti so I didn't hesitate or...  \n",
       "44736  It was almost a 'love at first bite' - the per...  "
      ]
     },
     "execution_count": 8,
     "metadata": {},
     "output_type": "execute_result"
    }
   ],
   "source": [
    "\"\"\"\n",
    "Erroneous data of which HelpfulnessNumerator is greater than HelpfulnessDenominator were deleted. this is imposible in real life.\n",
    "\n",
    "As shown below, entries of Id 64422 and 44737 are errorneous data where HelpfulnessNumerator is greater than HelpfulnessDenominator.\n",
    "\n",
    "\"\"\"\n",
    "\n",
    "data_ori[data_ori.HelpfulnessNumerator>data_ori.HelpfulnessDenominator]"
   ]
  },
  {
   "cell_type": "code",
   "execution_count": 9,
   "metadata": {},
   "outputs": [],
   "source": [
    "data_ori=data_ori[data_ori.HelpfulnessNumerator <= data_ori.HelpfulnessDenominator]"
   ]
  },
  {
   "cell_type": "code",
   "execution_count": 10,
   "metadata": {},
   "outputs": [
    {
     "data": {
      "text/plain": [
       "(363897, 10)"
      ]
     },
     "execution_count": 10,
     "metadata": {},
     "output_type": "execute_result"
    }
   ],
   "source": [
    "data_ori.shape"
   ]
  },
  {
   "cell_type": "code",
   "execution_count": 11,
   "metadata": {},
   "outputs": [
    {
     "data": {
      "text/plain": [
       "Id                         0\n",
       "ProductId                  0\n",
       "UserId                     0\n",
       "ProfileName               11\n",
       "HelpfulnessNumerator       0\n",
       "HelpfulnessDenominator     0\n",
       "Score                      0\n",
       "Time                       0\n",
       "Summary                    1\n",
       "Text                       0\n",
       "dtype: int64"
      ]
     },
     "execution_count": 11,
     "metadata": {},
     "output_type": "execute_result"
    }
   ],
   "source": [
    "\"\"\"\n",
    "Detect if there is any missing value in features that were used for training the data. If there is missingness\n",
    "detected, print the number of missing value in each feature.\n",
    "\n",
    "The reason why missing value must be replaced is because in the later stage, if missing value is not string, it would cause bug.\n",
    "\"\"\"\n",
    "data_ori.isna().sum()"
   ]
  },
  {
   "cell_type": "code",
   "execution_count": 12,
   "metadata": {},
   "outputs": [
    {
     "name": "stdout",
     "output_type": "stream",
     "text": [
      "The missing values look like:\n",
      "nan "
     ]
    }
   ],
   "source": [
    "# Show what does the value of missingness look like. The missing value is nan.\n",
    "index_missing = data_ori.Summary.index[data_ori.Summary.isna()].tolist()\n",
    "print('The missing values look like:')\n",
    "\n",
    "for i,v in enumerate(index_missing):\n",
    "    print(data_ori.Summary[v], end = ' ')"
   ]
  },
  {
   "cell_type": "code",
   "execution_count": 13,
   "metadata": {},
   "outputs": [],
   "source": [
    "# Fill the missing value with string of blank space.\n",
    "data_ori=data_ori.fillna(str(' '))"
   ]
  },
  {
   "cell_type": "code",
   "execution_count": 14,
   "metadata": {},
   "outputs": [
    {
     "data": {
      "text/plain": [
       "Id                        0\n",
       "ProductId                 0\n",
       "UserId                    0\n",
       "ProfileName               0\n",
       "HelpfulnessNumerator      0\n",
       "HelpfulnessDenominator    0\n",
       "Score                     0\n",
       "Time                      0\n",
       "Summary                   0\n",
       "Text                      0\n",
       "dtype: int64"
      ]
     },
     "execution_count": 14,
     "metadata": {},
     "output_type": "execute_result"
    }
   ],
   "source": [
    "data_ori.isna().sum()"
   ]
  },
  {
   "cell_type": "code",
   "execution_count": 15,
   "metadata": {},
   "outputs": [],
   "source": [
    "import nltk"
   ]
  },
  {
   "cell_type": "code",
   "execution_count": 16,
   "metadata": {},
   "outputs": [
    {
     "data": {
      "text/html": [
       "<div>\n",
       "<style scoped>\n",
       "    .dataframe tbody tr th:only-of-type {\n",
       "        vertical-align: middle;\n",
       "    }\n",
       "\n",
       "    .dataframe tbody tr th {\n",
       "        vertical-align: top;\n",
       "    }\n",
       "\n",
       "    .dataframe thead th {\n",
       "        text-align: right;\n",
       "    }\n",
       "</style>\n",
       "<table border=\"1\" class=\"dataframe\">\n",
       "  <thead>\n",
       "    <tr style=\"text-align: right;\">\n",
       "      <th></th>\n",
       "      <th>Id</th>\n",
       "      <th>ProductId</th>\n",
       "      <th>UserId</th>\n",
       "      <th>ProfileName</th>\n",
       "      <th>HelpfulnessNumerator</th>\n",
       "      <th>HelpfulnessDenominator</th>\n",
       "      <th>Score</th>\n",
       "      <th>Time</th>\n",
       "      <th>Summary</th>\n",
       "      <th>Text</th>\n",
       "    </tr>\n",
       "  </thead>\n",
       "  <tbody>\n",
       "    <tr>\n",
       "      <td>150525</td>\n",
       "      <td>150526</td>\n",
       "      <td>0006641040</td>\n",
       "      <td>A3E9QZFE9KXH8J</td>\n",
       "      <td>R. Mitchell</td>\n",
       "      <td>11</td>\n",
       "      <td>18</td>\n",
       "      <td>1</td>\n",
       "      <td>1129507200</td>\n",
       "      <td>awesome book poor size</td>\n",
       "      <td>This is one of the best children's books ever ...</td>\n",
       "    </tr>\n",
       "    <tr>\n",
       "      <td>363576</td>\n",
       "      <td>363577</td>\n",
       "      <td>B0024VFCRO</td>\n",
       "      <td>A2IOKYFBD8Y2HJ</td>\n",
       "      <td>Earl Grey</td>\n",
       "      <td>1</td>\n",
       "      <td>2</td>\n",
       "      <td>1</td>\n",
       "      <td>1271894400</td>\n",
       "      <td>Does not taste like the real thing</td>\n",
       "      <td>I bought this because I loved the Pongal made ...</td>\n",
       "    </tr>\n",
       "    <tr>\n",
       "      <td>273674</td>\n",
       "      <td>273675</td>\n",
       "      <td>B00250M2ZY</td>\n",
       "      <td>AC6NUFZ97BKMH</td>\n",
       "      <td>Mary Lou \"irish_marylou\"</td>\n",
       "      <td>4</td>\n",
       "      <td>7</td>\n",
       "      <td>1</td>\n",
       "      <td>1339286400</td>\n",
       "      <td>Bobs Sweet Stripes Soft Peppermint Balls &amp; wha...</td>\n",
       "      <td>I was a big fan of these soft peppermint balls...</td>\n",
       "    </tr>\n",
       "  </tbody>\n",
       "</table>\n",
       "</div>"
      ],
      "text/plain": [
       "            Id   ProductId          UserId               ProfileName  \\\n",
       "150525  150526  0006641040  A3E9QZFE9KXH8J               R. Mitchell   \n",
       "363576  363577  B0024VFCRO  A2IOKYFBD8Y2HJ                 Earl Grey   \n",
       "273674  273675  B00250M2ZY   AC6NUFZ97BKMH  Mary Lou \"irish_marylou\"   \n",
       "\n",
       "       HelpfulnessNumerator HelpfulnessDenominator Score        Time  \\\n",
       "150525                   11                     18     1  1129507200   \n",
       "363576                    1                      2     1  1271894400   \n",
       "273674                    4                      7     1  1339286400   \n",
       "\n",
       "                                                  Summary  \\\n",
       "150525                             awesome book poor size   \n",
       "363576                 Does not taste like the real thing   \n",
       "273674  Bobs Sweet Stripes Soft Peppermint Balls & wha...   \n",
       "\n",
       "                                                     Text  \n",
       "150525  This is one of the best children's books ever ...  \n",
       "363576  I bought this because I loved the Pongal made ...  \n",
       "273674  I was a big fan of these soft peppermint balls...  "
      ]
     },
     "execution_count": 16,
     "metadata": {},
     "output_type": "execute_result"
    }
   ],
   "source": [
    "low_reviews = data_ori[data_ori.Score < 3].sort_values(by='Score')\n",
    "low_reviews.loc['Time'] = pd.to_datetime(data_ori['Time'],unit = 's')\n",
    "low_reviews.head(3)"
   ]
  },
  {
   "cell_type": "code",
   "execution_count": 17,
   "metadata": {},
   "outputs": [
    {
     "data": {
      "text/html": [
       "<div>\n",
       "<style scoped>\n",
       "    .dataframe tbody tr th:only-of-type {\n",
       "        vertical-align: middle;\n",
       "    }\n",
       "\n",
       "    .dataframe tbody tr th {\n",
       "        vertical-align: top;\n",
       "    }\n",
       "\n",
       "    .dataframe thead th {\n",
       "        text-align: right;\n",
       "    }\n",
       "</style>\n",
       "<table border=\"1\" class=\"dataframe\">\n",
       "  <thead>\n",
       "    <tr style=\"text-align: right;\">\n",
       "      <th></th>\n",
       "      <th>Id</th>\n",
       "      <th>ProductId</th>\n",
       "      <th>UserId</th>\n",
       "      <th>ProfileName</th>\n",
       "      <th>HelpfulnessNumerator</th>\n",
       "      <th>HelpfulnessDenominator</th>\n",
       "      <th>Score</th>\n",
       "      <th>Time</th>\n",
       "      <th>Summary</th>\n",
       "      <th>Text</th>\n",
       "    </tr>\n",
       "  </thead>\n",
       "  <tbody>\n",
       "    <tr>\n",
       "      <td>270762</td>\n",
       "      <td>270763</td>\n",
       "      <td>B001EO623A</td>\n",
       "      <td>A14SOW889A4TAT</td>\n",
       "      <td>J. Tan</td>\n",
       "      <td>0</td>\n",
       "      <td>0</td>\n",
       "      <td>4</td>\n",
       "      <td>2012-04-04</td>\n",
       "      <td>Tasty!! Need more tender</td>\n",
       "      <td>Never try this brand before but saw it has a g...</td>\n",
       "    </tr>\n",
       "    <tr>\n",
       "      <td>442574</td>\n",
       "      <td>442575</td>\n",
       "      <td>B000FFPXDO</td>\n",
       "      <td>ABGH6P1RC1UDS</td>\n",
       "      <td>Shady</td>\n",
       "      <td>0</td>\n",
       "      <td>0</td>\n",
       "      <td>4</td>\n",
       "      <td>2006-12-26</td>\n",
       "      <td>OK for freeze dried.</td>\n",
       "      <td>I like this one, although his split pea soup a...</td>\n",
       "    </tr>\n",
       "    <tr>\n",
       "      <td>442563</td>\n",
       "      <td>442564</td>\n",
       "      <td>B000FFPXDO</td>\n",
       "      <td>AMPGRXQMO89X9</td>\n",
       "      <td>Faye L. Bowring</td>\n",
       "      <td>0</td>\n",
       "      <td>0</td>\n",
       "      <td>4</td>\n",
       "      <td>2011-09-05</td>\n",
       "      <td>Very tasty and convenient!</td>\n",
       "      <td>This is my first purchase of Dr. McDougall's p...</td>\n",
       "    </tr>\n",
       "  </tbody>\n",
       "</table>\n",
       "</div>"
      ],
      "text/plain": [
       "            Id   ProductId          UserId      ProfileName  \\\n",
       "270762  270763  B001EO623A  A14SOW889A4TAT           J. Tan   \n",
       "442574  442575  B000FFPXDO   ABGH6P1RC1UDS            Shady   \n",
       "442563  442564  B000FFPXDO   AMPGRXQMO89X9  Faye L. Bowring   \n",
       "\n",
       "        HelpfulnessNumerator  HelpfulnessDenominator  Score       Time  \\\n",
       "270762                     0                       0      4 2012-04-04   \n",
       "442574                     0                       0      4 2006-12-26   \n",
       "442563                     0                       0      4 2011-09-05   \n",
       "\n",
       "                           Summary  \\\n",
       "270762    Tasty!! Need more tender   \n",
       "442574        OK for freeze dried.   \n",
       "442563  Very tasty and convenient!   \n",
       "\n",
       "                                                     Text  \n",
       "270762  Never try this brand before but saw it has a g...  \n",
       "442574  I like this one, although his split pea soup a...  \n",
       "442563  This is my first purchase of Dr. McDougall's p...  "
      ]
     },
     "execution_count": 17,
     "metadata": {},
     "output_type": "execute_result"
    }
   ],
   "source": [
    "high_reviews = data_ori[data_ori.Score > 3].sort_values(by='Score')\n",
    "high_reviews['Time'] = pd.to_datetime(data_ori['Time'],unit = 's')\n",
    "high_reviews.head(3)"
   ]
  },
  {
   "cell_type": "code",
   "execution_count": 18,
   "metadata": {},
   "outputs": [
    {
     "name": "stderr",
     "output_type": "stream",
     "text": [
      "[nltk_data] Downloading package stopwords to\n",
      "[nltk_data]     /Users/christina/nltk_data...\n",
      "[nltk_data]   Package stopwords is already up-to-date!\n"
     ]
    },
    {
     "data": {
      "text/plain": [
       "True"
      ]
     },
     "execution_count": 18,
     "metadata": {},
     "output_type": "execute_result"
    }
   ],
   "source": [
    "from nltk.corpus import stopwords\n",
    "from nltk import pos_tag, word_tokenize\n",
    "nltk.download('stopwords')"
   ]
  },
  {
   "cell_type": "code",
   "execution_count": 19,
   "metadata": {},
   "outputs": [
    {
     "name": "stdout",
     "output_type": "stream",
     "text": [
      "{\"you've\", 'should', 'm', \"shouldn't\", 'themselves', 'which', 'll', 'we', 'other', 'both', 'ain', 'until', 'doing', 'any', 'ourselves', 'your', 'has', 'then', 'herself', 'ma', 'no', 'at', 'with', 'about', 'he', 'have', 'but', 'into', 'shouldn', 'are', \"doesn't\", 'same', \"should've\", \"hadn't\", 'some', 'isn', 'than', 'ours', \"hasn't\", 'below', 'over', 'too', 'itself', 'above', 'here', 'an', 'don', 'what', \"needn't\", 'had', 'o', 'on', 'doesn', 'weren', 'theirs', 'my', \"you're\", 'is', \"isn't\", 'against', 'being', 'before', 'does', 'very', 'most', 's', 'y', 'if', 'these', 'during', 'shan', 'you', \"shan't\", 'own', 'between', 'this', \"it's\", \"you'll\", 'aren', 'won', 'or', 'down', 'having', 'to', 'through', 'up', 'there', 'of', 'after', \"don't\", 'wouldn', 'me', 'i', 'where', 'all', \"mustn't\", 'not', 't', 're', 'by', 'further', 'mustn', 'd', 'such', 'their', 'and', \"wouldn't\", 'why', 'mightn', 'those', 'did', 'again', 'under', \"weren't\", 'am', \"you'd\", 'be', 'yourselves', 'will', 've', 'haven', 'our', 'hasn', 'from', 'myself', \"wasn't\", \"she's\", 'didn', 'hers', 'now', 'yours', 'once', 'so', 'do', 'it', \"haven't\", 'few', 'hadn', 'were', \"aren't\", 'his', 'in', 'because', 'needn', 'only', 'each', \"couldn't\", 'for', 'was', 'been', \"mightn't\", 'off', 'himself', 'the', 'as', \"that'll\", \"didn't\", 'just', 'how', 'who', 'that', 'more', 'they', 'while', \"won't\", 'wasn', 'him', 'her', 'yourself', 'them', 'when', 'nor', 'couldn', 'whom', 'she', 'a', 'out', 'its', 'can'}\n"
     ]
    }
   ],
   "source": [
    "stop_words = set(stopwords.words('english'))\n",
    "# set of stopwords\n",
    "print(stop_words)"
   ]
  },
  {
   "cell_type": "code",
   "execution_count": 20,
   "metadata": {},
   "outputs": [
    {
     "name": "stderr",
     "output_type": "stream",
     "text": [
      "[nltk_data] Downloading package punkt to /Users/christina/nltk_data...\n",
      "[nltk_data]   Package punkt is already up-to-date!\n",
      "[nltk_data] Downloading package wordnet to\n",
      "[nltk_data]     /Users/christina/nltk_data...\n",
      "[nltk_data]   Package wordnet is already up-to-date!\n",
      "[nltk_data] Downloading package averaged_perceptron_tagger to\n",
      "[nltk_data]     /Users/christina/nltk_data...\n",
      "[nltk_data]   Package averaged_perceptron_tagger is already up-to-\n",
      "[nltk_data]       date!\n"
     ]
    },
    {
     "data": {
      "text/plain": [
       "True"
      ]
     },
     "execution_count": 20,
     "metadata": {},
     "output_type": "execute_result"
    }
   ],
   "source": [
    "nltk.download('punkt')\n",
    "nltk.download('wordnet')\n",
    "nltk.download('averaged_perceptron_tagger')"
   ]
  },
  {
   "cell_type": "code",
   "execution_count": 21,
   "metadata": {},
   "outputs": [],
   "source": [
    "def clean_html(sentence):\n",
    "    #function to clean the word of any html-tags\n",
    "    cleaner = re.compile('<.*?>')\n",
    "    cleantext = re.sub(cleaner,' ',str(sentence))\n",
    "    return cleantext\n",
    "\n",
    "def clean_punc(sentence):\n",
    "    #function to clean the word of any punctuation or special characters\n",
    "    cleaned = re.sub(r'[?|!|\\'|\"|#]',r'',str(sentence))\n",
    "    cleaned = re.sub(r'[.|,|)|(|\\|/]',r' ',str(cleaned))\n",
    "    return  cleaned\n",
    "\n",
    "def word_count(review_list):\n",
    "#     str_list = str.replace('\\n', '').lower().split(' ')\n",
    "    count_dict = {}\n",
    "    #    if the word appears, plus 1, otherwise add into dict\n",
    "    for str in review_list:\n",
    "        if str in count_dict.keys():\n",
    "            count_dict[str] += 1\n",
    "        else:\n",
    "            count_dict[str] = 1\n",
    "#     count_list= sorted(count_dict.iteritems(),key=lambda x:x[1],reverse=True)\n",
    "#     count_list = list(count_dict)\n",
    "    return count_dict"
   ]
  },
  {
   "cell_type": "code",
   "execution_count": 23,
   "metadata": {},
   "outputs": [],
   "source": [
    "i = 0\n",
    "final_string_neg=[]\n",
    "s= ''\n",
    "for review in low_reviews['Text'].values:\n",
    "# iterate through 'Text' feature in the dataset\n",
    "    filtered_sentence_neg=[]\n",
    "    review = clean_html(review)\n",
    "    review = clean_punc(review).lower()\n",
    "#     print(review)\n",
    "    for w in review.split():\n",
    "        if((w.isalpha()) & (len(w)>2)):\n",
    "            if(w.lower() not in stop_words):\n",
    "                s=(w.lower()).encode('utf8')\n",
    "                filtered_sentence_neg.append(s)\n",
    "            else:\n",
    "                continue\n",
    "        else:\n",
    "            continue \n",
    "#     print(filtered_sentence_neg)\n",
    "    final_string_neg.append(filtered_sentence_neg)\n",
    "    i+=1"
   ]
  },
  {
   "cell_type": "code",
   "execution_count": 24,
   "metadata": {},
   "outputs": [
    {
     "data": {
      "text/plain": [
       "[b'one',\n",
       " b'best',\n",
       " b'childrens',\n",
       " b'books',\n",
       " b'ever',\n",
       " b'written',\n",
       " b'mini',\n",
       " b'version',\n",
       " b'book',\n",
       " b'portrayed']"
      ]
     },
     "execution_count": 24,
     "metadata": {},
     "output_type": "execute_result"
    }
   ],
   "source": [
    "review_list_neg = [item for sublist in final_string_neg for item in sublist]\n",
    "\n",
    "review_list_neg[0:10]"
   ]
  },
  {
   "cell_type": "code",
   "execution_count": 25,
   "metadata": {},
   "outputs": [],
   "source": [
    "sorted_by_value_neg = sorted(word_count(review_list_neg).items(), reverse = True,key=lambda kv: kv[1])"
   ]
  },
  {
   "cell_type": "code",
   "execution_count": 26,
   "metadata": {},
   "outputs": [
    {
     "data": {
      "text/plain": [
       "[(b'like', 0.012693397231142189),\n",
       " (b'product', 0.00990183619752484),\n",
       " (b'taste', 0.009443945360911088),\n",
       " (b'one', 0.007932522961503582),\n",
       " (b'would', 0.007634064867443367),\n",
       " (b'good', 0.006216176343667268),\n",
       " (b'coffee', 0.005937700486673761),\n",
       " (b'flavor', 0.005907939708063768),\n",
       " (b'dont', 0.005046152590314397),\n",
       " (b'get', 0.004677118935550483)]"
      ]
     },
     "execution_count": 26,
     "metadata": {},
     "output_type": "execute_result"
    }
   ],
   "source": [
    "sorted_by_score_neg = []\n",
    "for t in sorted_by_value_neg:\n",
    "    per = t[0],t[1]/len(review_list_neg)\n",
    "    sorted_by_score_neg.append(per)\n",
    "\n",
    "sorted_by_score_neg[0:10]\n",
    "# sorted_by_per_neg = [(t[0],t[1]/len(review_list)) for t in sorted_by_value]"
   ]
  },
  {
   "cell_type": "code",
   "execution_count": 27,
   "metadata": {},
   "outputs": [],
   "source": [
    "sorted_by_score_neg = sorted_by_score_neg[0:1000]"
   ]
  },
  {
   "cell_type": "code",
   "execution_count": 29,
   "metadata": {},
   "outputs": [],
   "source": [
    "tmp1 = []\n",
    "for word, value in sorted_by_score_neg:\n",
    "    tmp1.append(word_tokenize(word.decode('utf-8')))\n",
    "\n",
    "pos_of_words = []\n",
    "for w in tmp1:\n",
    "    tmp2 = nltk.pos_tag(w)\n",
    "    for item in tmp2:\n",
    "        if item[1] == 'JJ':\n",
    "            pos_of_words.append(tmp2)\n"
   ]
  },
  {
   "cell_type": "code",
   "execution_count": 32,
   "metadata": {},
   "outputs": [],
   "source": [
    "neg_result =[]\n",
    "for x in sorted_by_score_neg:\n",
    "    for y in pos_of_words:\n",
    "        if x[0].decode('utf-8') == y[0][0]:\n",
    "            neg_result.append((x[0].decode('utf-8'),x[1]))"
   ]
  },
  {
   "cell_type": "code",
   "execution_count": 33,
   "metadata": {},
   "outputs": [
    {
     "data": {
      "text/plain": [
       "[('good', 0.006216176343667268),\n",
       " ('much', 0.004007926570805781),\n",
       " ('bad', 0.003016892643093012),\n",
       " ('great', 0.002451012695523001),\n",
       " ('ive', 0.0024272040726350066),\n",
       " ('little', 0.002394467216164014),\n",
       " ('disappointed', 0.0021695607606684953),\n",
       " ('different', 0.0017235742354987417),\n",
       " ('old', 0.00171252023201503),\n",
       " ('many', 0.0016325912837481915),\n",
       " ('small', 0.001484212544678369),\n",
       " ('new', 0.0014633799996513737),\n",
       " ('hard', 0.0014195891396966696),\n",
       " ('hot', 0.0013141509526212655),\n",
       " ('organic', 0.0013103245667999807),\n",
       " ('whole', 0.0012979951013758408),\n",
       " ('free', 0.0012597312431629926),\n",
       " ('real', 0.0012350723123147125),\n",
       " ('natural', 0.001186604758578438),\n",
       " ('high', 0.0011751256011145836),\n",
       " ('last', 0.0011649219055911574),\n",
       " ('green', 0.0011610955197698726),\n",
       " ('big', 0.001067136490158323),\n",
       " ('local', 0.001056932794634897),\n",
       " ('regular', 0.0010033633931369093),\n",
       " ('strong', 0.0009893333117921984),\n",
       " ('several', 0.0009285362926317839),\n",
       " ('horrible', 0.0009238595988502135),\n",
       " ('terrible', 0.0008851705866572226),\n",
       " ('expensive', 0.0008583858859082289),\n",
       " ('healthy', 0.0008490324983450882),\n",
       " ('fresh', 0.0008481821903848026),\n",
       " ('nice', 0.0008290502612783785),\n",
       " ('wrong', 0.0008048164844102413),\n",
       " ('white', 0.000791211557045673),\n",
       " ('artificial', 0.0007848342473435316),\n",
       " ('black', 0.0007499716209718255),\n",
       " ('full', 0.0007486961590313972),\n",
       " ('open', 0.0007359415396271144),\n",
       " ('second', 0.0007333906157462579),\n",
       " ('next', 0.0007214863043022607),\n",
       " ('low', 0.0007078813769376924),\n",
       " ('original', 0.0006551622833999904),\n",
       " ('large', 0.0006368806622538518),\n",
       " ('red', 0.0006122217314055718),\n",
       " ('weak', 0.0005986168040410035),\n",
       " ('able', 0.0005637541776692974),\n",
       " ('happy', 0.0005616284077685835),\n",
       " ('available', 0.0005038074664691685),\n",
       " ('extra', 0.0005008313886081692),\n",
       " ('nasty', 0.0004961546948265988),\n",
       " ('poor', 0.0004787233816407457),\n",
       " ('delicious', 0.0004761724577598892),\n",
       " ('mixed', 0.0004723460719386044),\n",
       " ('due', 0.0004498129109910382),\n",
       " ('similar', 0.0004493877570108954),\n",
       " ('single', 0.0004391840614874692),\n",
       " ('huge', 0.0004302558279044713),\n",
       " ('soft', 0.00042132759432147337),\n",
       " ('gross', 0.00041452513063918925),\n",
       " ('easy', 0.00041069874481790443),\n",
       " ('total', 0.00040857297491719066),\n",
       " ('tiny', 0.0004055968970561913),\n",
       " ('entire', 0.00038689012192990994),\n",
       " ('true', 0.0003792373502873403),\n",
       " ('french', 0.0003562790353596314),\n",
       " ('actual', 0.00035160234157806104),\n",
       " ('clear', 0.0003477759557567762),\n",
       " ('special', 0.0003307697965510659),\n",
       " ('normal', 0.0003299194885907804),\n",
       " ('live', 0.00030908694356378524),\n",
       " ('positive', 0.00029845809406021625),\n",
       " ('surprised', 0.00028230224281479145),\n",
       " ('loose', 0.00028230224281479145),\n",
       " ('overall', 0.0002772003950530784),\n",
       " ('short', 0.00027592493311265006),\n",
       " ('unpleasant', 0.00027549977913250733),\n",
       " ('particular', 0.0002678470074899377),\n",
       " ('advertised', 0.0002580684659466542),\n",
       " ('difficult', 0.0002576433119665115),\n",
       " ('rich', 0.000244463538582086),\n",
       " ('possible', 0.00023681076693951632),\n",
       " ('third', 0.0002359604589792308),\n",
       " ('safe', 0.00023553530499908804),\n",
       " ('previous', 0.00023255922713808874),\n",
       " ('heavy', 0.00022660707141609012),\n",
       " ('edible', 0.00022618191743594736),\n",
       " ('flat', 0.0002257567634558046),\n",
       " ('nutritional', 0.00022022976171394876),\n",
       " ('olive', 0.00021895429977352048),\n",
       " ('daily', 0.00021172668211109357),\n",
       " ('likely', 0.00020534937240895222),\n",
       " ('negative', 0.0002032236025082384),\n",
       " ('main', 0.00020194814056781016),\n",
       " ('complete', 0.00019301990698481224),\n",
       " ('individual', 0.0001900438291238129),\n",
       " ('impressed', 0.00018664259728267085),\n",
       " ('usual', 0.00018536713534224257),\n",
       " ('puppy', 0.0001832413654415288),\n",
       " ('aware', 0.00018154074952095775),\n",
       " ('inedible', 0.000181115595540815),\n",
       " ('iced', 0.00017728920971953017)]"
      ]
     },
     "execution_count": 33,
     "metadata": {},
     "output_type": "execute_result"
    }
   ],
   "source": [
    "neg_result"
   ]
  },
  {
   "cell_type": "code",
   "execution_count": 34,
   "metadata": {},
   "outputs": [],
   "source": [
    "i = 0\n",
    "final_string_pos=[]\n",
    "s=''\n",
    "for review in high_reviews['Text'].values:\n",
    "# iterate through 'Text' feature in the dataset\n",
    "    filtered_sentence_pos=[]\n",
    "    review = clean_html(review)\n",
    "    review = clean_punc(review).lower()\n",
    "#     print(review)\n",
    "    for w in review.split():\n",
    "        if((w.isalpha()) & (len(w)>2)):\n",
    "            if(w.lower() not in stop_words):\n",
    "                s=(w.lower()).encode('utf8')\n",
    "                filtered_sentence_pos.append(s)\n",
    "            else:\n",
    "                continue\n",
    "        else:\n",
    "            continue \n",
    "#     print(filtered_sentenc_pos)\n",
    "    final_string_pos.append(filtered_sentence_pos)\n",
    "    i+=1"
   ]
  },
  {
   "cell_type": "code",
   "execution_count": 35,
   "metadata": {},
   "outputs": [],
   "source": [
    "review_list_pos = [item for sublist in final_string_pos for item in sublist]"
   ]
  },
  {
   "cell_type": "code",
   "execution_count": 36,
   "metadata": {},
   "outputs": [
    {
     "data": {
      "text/plain": [
       "[(b'like', 0.01063121082574851),\n",
       " (b'good', 0.009475792668990048),\n",
       " (b'great', 0.008892041511500321),\n",
       " (b'one', 0.007581428237017989),\n",
       " (b'taste', 0.007118432346322308),\n",
       " (b'product', 0.006453458382504349),\n",
       " (b'tea', 0.00640235965631273),\n",
       " (b'coffee', 0.006395799684707049),\n",
       " (b'flavor', 0.006377759762791427),\n",
       " (b'love', 0.006371717683680931)]"
      ]
     },
     "execution_count": 36,
     "metadata": {},
     "output_type": "execute_result"
    }
   ],
   "source": [
    "count_dict = word_count(review_list_pos)\n",
    "sorted_by_value_pos = sorted(count_dict.items(), key=lambda kv: kv[1], reverse = True)\n",
    "sorted_by_score_pos = [(t[0], t[1]/len(review_list_pos)) for t in sorted_by_value_pos]\n",
    "sorted_by_score_pos[0:10]"
   ]
  },
  {
   "cell_type": "code",
   "execution_count": 37,
   "metadata": {},
   "outputs": [],
   "source": [
    "sorted_by_score_pos = sorted_by_score_pos[0:1000]"
   ]
  },
  {
   "cell_type": "code",
   "execution_count": 38,
   "metadata": {},
   "outputs": [],
   "source": [
    "tmp1 = []\n",
    "for word,value in sorted_by_score_pos:\n",
    "    tmp1.append(word_tokenize(word.decode('utf-8')))\n",
    "\n",
    "\n",
    "pos_of_words1 = []\n",
    "for w in tmp1:\n",
    "    tmp2 = nltk.pos_tag(w)\n",
    "    for item in tmp2:\n",
    "        if item[1] == 'JJ':\n",
    "            pos_of_words1.append(tmp2)"
   ]
  },
  {
   "cell_type": "code",
   "execution_count": 40,
   "metadata": {},
   "outputs": [],
   "source": [
    "pos_result = []\n",
    "for x in sorted_by_score_pos:\n",
    "    for y in pos_of_words1:\n",
    "        if x[0].decode('utf-8') == y[0][0]:\n",
    "            pos_result.append((x[0].decode('utf-8'),x[1]))"
   ]
  },
  {
   "cell_type": "code",
   "execution_count": 41,
   "metadata": {},
   "outputs": [
    {
     "data": {
      "text/plain": [
       "[('good', 0.009475792668990048),\n",
       " ('great', 0.008892041511500321),\n",
       " ('much', 0.004113792720088774),\n",
       " ('little', 0.003974134377220464),\n",
       " ('ive', 0.0035326310250749734),\n",
       " ('delicious', 0.002426930547854302),\n",
       " ('nice', 0.0021508938479205234),\n",
       " ('many', 0.0019813703711631936),\n",
       " ('hot', 0.0019142169776208294),\n",
       " ('free', 0.001905499120618543),\n",
       " ('easy', 0.0017574681824114042),\n",
       " ('fresh', 0.0016759864298355794),\n",
       " ('healthy', 0.001603567795925498),\n",
       " ('organic', 0.0015899299602189511),\n",
       " ('different', 0.0014588168435211994),\n",
       " ('whole', 0.0014404316599421203),\n",
       " ('small', 0.001432490641682612),\n",
       " ('local', 0.0014030570848729126),\n",
       " ('happy', 0.0013721561659935215),\n",
       " ('hard', 0.001343413132510736),\n",
       " ('regular', 0.0013163100919293706),\n",
       " ('green', 0.0012801439326822618),\n",
       " ('high', 0.001240352525968856),\n",
       " ('old', 0.0012269736365099018),\n",
       " ('strong', 0.0012214494498945915),\n",
       " ('big', 0.0012037547896424263),\n",
       " ('natural', 0.0011940874630656335),\n",
       " ('last', 0.0011651717987511195),\n",
       " ('new', 0.001112605710489809),\n",
       " ('real', 0.0010791153291344912),\n",
       " ('low', 0.0010101493118589786),\n",
       " ('expensive', 0.0010061788027292244),\n",
       " ('several', 0.0009398885633455027),\n",
       " ('bad', 0.0009371264700378476),\n",
       " ('available', 0.0009101960602882107),\n",
       " ('full', 0.0008944003391850581),\n",
       " ('able', 0.0008627225815628891),\n",
       " ('black', 0.0008381226880415861),\n",
       " ('large', 0.0007965186575950316),\n",
       " ('extra', 0.0007669124699536037),\n",
       " ('rich', 0.0007051969476106857),\n",
       " ('next', 0.0006941485743800654),\n",
       " ('soft', 0.0006825823086542599),\n",
       " ('white', 0.0006786117995245056),\n",
       " ('red', 0.000670152888769812),\n",
       " ('open', 0.0005683006980500312),\n",
       " ('pleased', 0.0005342924241995281),\n",
       " ('mixed', 0.0005150440864618068),\n",
       " ('second', 0.0004783600347195129),\n",
       " ('surprised', 0.00047102322437105406),\n",
       " ('overall', 0.0004661895610826577),\n",
       " ('fantastic', 0.00045445066452512364),\n",
       " ('live', 0.00044633701543388685),\n",
       " ('daily', 0.0004310591868259198),\n",
       " ('disappointed', 0.00043019603266727756),\n",
       " ('special', 0.00043010971725141334),\n",
       " ('french', 0.000423722376477461),\n",
       " ('similar', 0.00041163821825647006),\n",
       " ('olive', 0.00041146558742474157),\n",
       " ('huge', 0.0004052508774825177),\n",
       " ('iced', 0.0004007624758575782),\n",
       " ('original', 0.0003797878298025725),\n",
       " ('artificial', 0.0003762488977521394),\n",
       " ('single', 0.0003537205742115777),\n",
       " ('due', 0.00034647007927898315),\n",
       " ('wrong', 0.0003289480498585463),\n",
       " ('true', 0.0003230786015797793),\n",
       " ('difficult', 0.0003002050163757607),\n",
       " ('normal', 0.0002855313956788431),\n",
       " ('reasonable', 0.0002850135031836578),\n",
       " ('entire', 0.00028397771819328716),\n",
       " ('ready', 0.00027189355997229623),\n",
       " ('particular', 0.00026757778917908516),\n",
       " ('clear', 0.0002452220964702519),\n",
       " ('satisfied', 0.00024384104981642438),\n",
       " ('tiny', 0.00023961159443907753),\n",
       " ('italian', 0.00023883475569629956),\n",
       " ('loose', 0.00023728107821074357),\n",
       " ('heavy', 0.00023322425366512518),\n",
       " ('total', 0.00022951269078296367),\n",
       " ('puppy', 0.0002278726978815435),\n",
       " ('impressed', 0.00022355692708833243),\n",
       " ('short', 0.0002197590487903067),\n",
       " ('individual', 0.00021734221714610853),\n",
       " ('important', 0.00021647906298746632),\n",
       " ('nutritional', 0.00021000540679764974),\n",
       " ('traditional', 0.00020974646055005707),\n",
       " ('usual', 0.00020931488347073596),\n",
       " ('various', 0.00019515915526900372),\n",
       " ('sensitive', 0.00019239706196134864),\n",
       " ('possible', 0.00017996764207690082),\n",
       " ('american', 0.00017435714004572646),\n",
       " ('pouch', 0.000174184509213998),\n",
       " ('english', 0.0001733213550553558)]"
      ]
     },
     "execution_count": 41,
     "metadata": {},
     "output_type": "execute_result"
    }
   ],
   "source": [
    "pos_result"
   ]
  },
  {
   "cell_type": "code",
   "execution_count": 42,
   "metadata": {},
   "outputs": [],
   "source": [
    "uniform_positive = []\n",
    "uniform_negative = []\n",
    "for x in pos_result:\n",
    "    for y in neg_result:\n",
    "        if x[0] == y[0]:\n",
    "            uniform_positive.append(x)\n",
    "            uniform_negative.append(y)"
   ]
  },
  {
   "cell_type": "code",
   "execution_count": 43,
   "metadata": {},
   "outputs": [
    {
     "data": {
      "text/plain": [
       "94"
      ]
     },
     "execution_count": 43,
     "metadata": {},
     "output_type": "execute_result"
    }
   ],
   "source": [
    "len(pos_result)"
   ]
  },
  {
   "cell_type": "code",
   "execution_count": 44,
   "metadata": {},
   "outputs": [
    {
     "data": {
      "text/plain": [
       "81"
      ]
     },
     "execution_count": 44,
     "metadata": {},
     "output_type": "execute_result"
    }
   ],
   "source": [
    "len(uniform_positive)"
   ]
  },
  {
   "cell_type": "code",
   "execution_count": 46,
   "metadata": {},
   "outputs": [
    {
     "data": {
      "text/plain": [
       "102"
      ]
     },
     "execution_count": 46,
     "metadata": {},
     "output_type": "execute_result"
    }
   ],
   "source": [
    "len(neg_result)"
   ]
  },
  {
   "cell_type": "code",
   "execution_count": 47,
   "metadata": {},
   "outputs": [
    {
     "data": {
      "text/plain": [
       "81"
      ]
     },
     "execution_count": 47,
     "metadata": {},
     "output_type": "execute_result"
    }
   ],
   "source": [
    "len(uniform_negative)"
   ]
  },
  {
   "cell_type": "code",
   "execution_count": 51,
   "metadata": {},
   "outputs": [],
   "source": [
    "word_list_pos = []\n",
    "value_list_pos = []\n",
    "for t in uniform_positive:\n",
    "    (w,v) = t\n",
    "    word_list_pos.append(w)\n",
    "    value_list_pos.append(v)"
   ]
  },
  {
   "cell_type": "code",
   "execution_count": 52,
   "metadata": {},
   "outputs": [
    {
     "data": {
      "text/plain": [
       "['good', 'great', 'much', 'little', 'ive']"
      ]
     },
     "execution_count": 52,
     "metadata": {},
     "output_type": "execute_result"
    }
   ],
   "source": [
    "word_list_pos[0:5]"
   ]
  },
  {
   "cell_type": "code",
   "execution_count": 53,
   "metadata": {},
   "outputs": [
    {
     "data": {
      "text/plain": [
       "[0.009475792668990048,\n",
       " 0.008892041511500321,\n",
       " 0.004113792720088774,\n",
       " 0.003974134377220464,\n",
       " 0.0035326310250749734]"
      ]
     },
     "execution_count": 53,
     "metadata": {},
     "output_type": "execute_result"
    }
   ],
   "source": [
    "value_list_pos[0:5]"
   ]
  },
  {
   "cell_type": "code",
   "execution_count": 54,
   "metadata": {},
   "outputs": [],
   "source": [
    "word_list_neg = []\n",
    "value_list_neg = []\n",
    "for t in uniform_negative:\n",
    "    (w,v) = t\n",
    "    word_list_neg.append(w)\n",
    "    value_list_neg.append(v)"
   ]
  },
  {
   "cell_type": "code",
   "execution_count": 55,
   "metadata": {},
   "outputs": [
    {
     "data": {
      "text/plain": [
       "['good', 'great', 'much', 'little', 'ive']"
      ]
     },
     "execution_count": 55,
     "metadata": {},
     "output_type": "execute_result"
    }
   ],
   "source": [
    "word_list_neg[0:5]"
   ]
  },
  {
   "cell_type": "code",
   "execution_count": 56,
   "metadata": {
    "scrolled": true
   },
   "outputs": [
    {
     "data": {
      "text/plain": [
       "[0.006216176343667268,\n",
       " 0.002451012695523001,\n",
       " 0.004007926570805781,\n",
       " 0.002394467216164014,\n",
       " 0.0024272040726350066]"
      ]
     },
     "execution_count": 56,
     "metadata": {},
     "output_type": "execute_result"
    }
   ],
   "source": [
    "value_list_neg[0:5]"
   ]
  },
  {
   "cell_type": "code",
   "execution_count": 57,
   "metadata": {},
   "outputs": [],
   "source": [
    "import matplotlib.pyplot as plt"
   ]
  },
  {
   "cell_type": "code",
   "execution_count": 61,
   "metadata": {},
   "outputs": [],
   "source": [
    "x = list(range(len(word_list_pos[0:10])))\n",
    "total_width,n = 0.8, 2.5\n",
    "width = total_width / n"
   ]
  },
  {
   "cell_type": "code",
   "execution_count": 65,
   "metadata": {},
   "outputs": [
    {
     "data": {
      "image/png": "[encoded data removed]",
      "text/plain": [
       "<Figure size 432x288 with 1 Axes>"
      ]
     },
     "metadata": {
      "needs_background": "light"
     },
     "output_type": "display_data"
    }
   ],
   "source": [
    "plt.bar(x,value_list_pos[10:20],width = width,label='positive rate',color = 'b')\n",
    "for i in range(len(x)):\n",
    "    x[i] = x[i]+width\n",
    "plt.bar(x, value_list_neg[10:20], width=width, label='negative rate',tick_label = word_list_pos[10:20],fc = 'r')\n",
    "plt.legend()\n",
    "plt.xticks(rotation=90)\n",
    "plt.show()"
   ]
  },
  {
   "cell_type": "code",
   "execution_count": 72,
   "metadata": {},
   "outputs": [
    {
     "data": {
      "image/png": "[encoded data removed]",
      "text/plain": [
       "<Figure size 432x288 with 1 Axes>"
      ]
     },
     "metadata": {
      "needs_background": "light"
     },
     "output_type": "display_data"
    }
   ],
   "source": [
    "plt.bar(x, value_list_pos[20:30], width=width, label='positive rate',fc = 'b')\n",
    "for i in range(len(x)):\n",
    "    x[i] = x[i] + width\n",
    "plt.bar(x, value_list_neg[10:20], width=width, label='negative rate',tick_label = word_list_pos[10:20],fc = 'r')\n",
    "plt.legend()\n",
    "plt.xticks(rotation=90)\n",
    "plt.show()"
   ]
  },
  {
   "cell_type": "code",
   "execution_count": 73,
   "metadata": {},
   "outputs": [
    {
     "data": {
      "text/html": [
       "<div>\n",
       "<style scoped>\n",
       "    .dataframe tbody tr th:only-of-type {\n",
       "        vertical-align: middle;\n",
       "    }\n",
       "\n",
       "    .dataframe tbody tr th {\n",
       "        vertical-align: top;\n",
       "    }\n",
       "\n",
       "    .dataframe thead th {\n",
       "        text-align: right;\n",
       "    }\n",
       "</style>\n",
       "<table border=\"1\" class=\"dataframe\">\n",
       "  <thead>\n",
       "    <tr style=\"text-align: right;\">\n",
       "      <th></th>\n",
       "      <th>Id</th>\n",
       "      <th>ProductId</th>\n",
       "      <th>UserId</th>\n",
       "      <th>ProfileName</th>\n",
       "      <th>HelpfulnessNumerator</th>\n",
       "      <th>HelpfulnessDenominator</th>\n",
       "      <th>Score</th>\n",
       "      <th>Time</th>\n",
       "      <th>Summary</th>\n",
       "      <th>Text</th>\n",
       "    </tr>\n",
       "  </thead>\n",
       "  <tbody>\n",
       "    <tr>\n",
       "      <td>150523</td>\n",
       "      <td>150524</td>\n",
       "      <td>0006641040</td>\n",
       "      <td>ACITT7DI6IDDL</td>\n",
       "      <td>shari zychinski</td>\n",
       "      <td>0</td>\n",
       "      <td>0</td>\n",
       "      <td>5</td>\n",
       "      <td>939340800</td>\n",
       "      <td>EVERY book is educational</td>\n",
       "      <td>this witty little book makes my son laugh at l...</td>\n",
       "    </tr>\n",
       "    <tr>\n",
       "      <td>150505</td>\n",
       "      <td>150506</td>\n",
       "      <td>0006641040</td>\n",
       "      <td>A2IW4PEEKO2R0U</td>\n",
       "      <td>Tracy</td>\n",
       "      <td>1</td>\n",
       "      <td>1</td>\n",
       "      <td>4</td>\n",
       "      <td>1194739200</td>\n",
       "      <td>Love the book, miss the hard cover version</td>\n",
       "      <td>I grew up reading these Sendak books, and watc...</td>\n",
       "    </tr>\n",
       "    <tr>\n",
       "      <td>150506</td>\n",
       "      <td>150507</td>\n",
       "      <td>0006641040</td>\n",
       "      <td>A1S4A3IQ2MU7V4</td>\n",
       "      <td>sally sue \"sally sue\"</td>\n",
       "      <td>1</td>\n",
       "      <td>1</td>\n",
       "      <td>4</td>\n",
       "      <td>1191456000</td>\n",
       "      <td>chicken soup with rice months</td>\n",
       "      <td>This is a fun way for children to learn their ...</td>\n",
       "    </tr>\n",
       "  </tbody>\n",
       "</table>\n",
       "</div>"
      ],
      "text/plain": [
       "            Id   ProductId          UserId            ProfileName  \\\n",
       "150523  150524  0006641040   ACITT7DI6IDDL        shari zychinski   \n",
       "150505  150506  0006641040  A2IW4PEEKO2R0U                  Tracy   \n",
       "150506  150507  0006641040  A1S4A3IQ2MU7V4  sally sue \"sally sue\"   \n",
       "\n",
       "        HelpfulnessNumerator  HelpfulnessDenominator  Score        Time  \\\n",
       "150523                     0                       0      5   939340800   \n",
       "150505                     1                       1      4  1194739200   \n",
       "150506                     1                       1      4  1191456000   \n",
       "\n",
       "                                           Summary  \\\n",
       "150523                   EVERY book is educational   \n",
       "150505  Love the book, miss the hard cover version   \n",
       "150506               chicken soup with rice months   \n",
       "\n",
       "                                                     Text  \n",
       "150523  this witty little book makes my son laugh at l...  \n",
       "150505  I grew up reading these Sendak books, and watc...  \n",
       "150506  This is a fun way for children to learn their ...  "
      ]
     },
     "execution_count": 73,
     "metadata": {},
     "output_type": "execute_result"
    }
   ],
   "source": [
    "data_ori.head(3)"
   ]
  },
  {
   "cell_type": "code",
   "execution_count": 74,
   "metadata": {},
   "outputs": [],
   "source": [
    "# So far, the index of the data is messy. The index must be reset for the following computation.\n",
    "data_ori = data_ori.reset_index(drop=True)"
   ]
  },
  {
   "cell_type": "code",
   "execution_count": 77,
   "metadata": {},
   "outputs": [
    {
     "ename": "SyntaxError",
     "evalue": "unexpected EOF while parsing (<ipython-input-77-1e7a6a4fd58d>, line 12)",
     "output_type": "error",
     "traceback": [
      "\u001b[0;36m  File \u001b[0;32m\"<ipython-input-77-1e7a6a4fd58d>\"\u001b[0;36m, line \u001b[0;32m12\u001b[0m\n\u001b[0;31m    for i in range(0,len(data_ori)):\u001b[0m\n\u001b[0m                                    ^\u001b[0m\n\u001b[0;31mSyntaxError\u001b[0m\u001b[0;31m:\u001b[0m unexpected EOF while parsing\n"
     ]
    }
   ],
   "source": [
    "\n",
    "\"\"\"\n",
    "After some observation of the dataset, it is found that for some reviews the HelpnessNumerator is lower than half of the HelpnessDenominator.\n",
    "In other words, more than half of customers do not think that review and score is representitive.\n",
    "\n",
    "Therefore, for a review with positive score (4 or 5), if HelpnessNumerator is lower than half of the HelpnessDenominator, the score was reduced\n",
    "by 1, and vice versa.\n",
    "\"\"\"\n",
    "\n",
    "start = time.time()\n",
    "print(\"Start\")\n",
    "\n",
    "for i in range(0,len(data_ori)):\n",
    "    if data_ori.loc[]"
   ]
  },
  {
   "cell_type": "code",
   "execution_count": null,
   "metadata": {},
   "outputs": [],
   "source": [
    "    if original_dataset.loc[i,('HelpfulnessNumerator')] \n",
    "    < original_dataset.loc[i,('HelpfulnessDenominator')]/2 \n",
    "    \\and original_dataset.loc[i,('Score')] > 3:\n",
    "\n"
   ]
  }
 ],
 "metadata": {
  "kernelspec": {
   "display_name": "Python 3",
   "language": "python",
   "name": "python3"
  },
  "language_info": {
   "codemirror_mode": {
    "name": "ipython",
    "version": 3
   },
   "file_extension": ".py",
   "mimetype": "text/x-python",
   "name": "python",
   "nbconvert_exporter": "python",
   "pygments_lexer": "ipython3",
   "version": "3.7.4"
  }
 },
 "nbformat": 4,
 "nbformat_minor": 2
}
